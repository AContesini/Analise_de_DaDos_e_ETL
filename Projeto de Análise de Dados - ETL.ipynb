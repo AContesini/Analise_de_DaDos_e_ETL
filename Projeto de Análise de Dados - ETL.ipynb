{
 "cells": [
  {
   "cell_type": "markdown",
   "id": "c1a282ec",
   "metadata": {},
   "source": [
    "# Projeto de Análise de Dados - Automação  ETL e Envio de Relatórios\n"
   ]
  },
  {
   "cell_type": "markdown",
   "id": "67b6622e",
   "metadata": {},
   "source": [
    "## Descrição do Projeto\n",
    "O objetivo deste projeto é agilizar e tornar mais eficiente a análise das vendas em shoppings. Utilizando a automação \n",
    "com Python, o processo de Extração, Transformação e Carregamento (ETL) dos dados será realizado de forma automática.\n",
    "Os dados serão importados de planilhas do Excel, e serão feitos testes para garantir a leitura adequada dos dados.\n",
    "Em seguida, serão criadas tabelas derivadas a partir dos dados extraídos, utilizando recursos da biblioteca Pandas. \n",
    "Será utilizada também a biblioteca específica pywin32 para acessar o Outlook e gerar e-mails formatados com informações\n",
    "relevantes em formato de tabela."
   ]
  },
  {
   "cell_type": "markdown",
   "id": "a7988206",
   "metadata": {},
   "source": [
    "### Blibliotecas\n",
    "A primeira linha de código importa as bibliotecas pandas e win32com.client, utilizadas para manipulação de dados e envio de e-mails,respectivamente."
   ]
  },
  {
   "cell_type": "code",
   "execution_count": 2,
   "id": "19fa6db0",
   "metadata": {},
   "outputs": [],
   "source": [
    "import pandas as pd\n",
    "import win32com.client as win32\n",
    "\n"
   ]
  },
  {
   "cell_type": "markdown",
   "id": "c4b62bb9",
   "metadata": {},
   "source": [
    "### 1.Importar a base de Dados\n",
    "Essa linha de código utiliza a função de leitura da biblioteca Pandas para importar os dados do arquivo Excel. Os dados são armazenados em um objeto DataFrame chamado tabela_vendas."
   ]
  },
  {
   "cell_type": "code",
   "execution_count": 3,
   "id": "91ad1189",
   "metadata": {},
   "outputs": [],
   "source": [
    "tabela_vendas = pd.read_excel('Vendas.xlsx')\n"
   ]
  },
  {
   "cell_type": "markdown",
   "id": "0ed4f1f1",
   "metadata": {},
   "source": [
    "### 2.Vizualizar a base de Dados (teste)\n",
    " \n",
    "Essas linhas de código configuram a exibição das colunas do DataFrame e imprimem a tabela de dados importada, permitindo uma visualização completa dos dados. Esse processo também serve como teste para verificar se a leitura dos dados foi realizada com sucesso."
   ]
  },
  {
   "cell_type": "code",
   "execution_count": 4,
   "id": "2a08e47e",
   "metadata": {},
   "outputs": [
    {
     "name": "stdout",
     "output_type": "stream",
     "text": [
      "        Código Venda       Data                     ID Loja           Produto  \\\n",
      "0                  1 2019-01-01          Iguatemi Esplanada    Sapato Estampa   \n",
      "1                  1 2019-01-01          Iguatemi Esplanada          Camiseta   \n",
      "2                  1 2019-01-01          Iguatemi Esplanada     Sapato Xadrez   \n",
      "3                  2 2019-01-02              Norte Shopping           Relógio   \n",
      "4                  2 2019-01-02              Norte Shopping      Chinelo Liso   \n",
      "...              ...        ...                         ...               ...   \n",
      "100994         69996 2019-12-26  Center Shopping Uberlândia    Short Listrado   \n",
      "100995         69996 2019-12-26  Center Shopping Uberlândia           Mochila   \n",
      "100996         69996 2019-12-26  Center Shopping Uberlândia  Pulseira Estampa   \n",
      "100997         69997 2019-12-26           Ribeirão Shopping   Camisa Listrado   \n",
      "100998         69997 2019-12-26           Ribeirão Shopping       Short Linho   \n",
      "\n",
      "        Quantidade  Valor Unitário  Valor Final  \n",
      "0                1             358          358  \n",
      "1                2             180          360  \n",
      "2                1             368          368  \n",
      "3                3             200          600  \n",
      "4                1              71           71  \n",
      "...            ...             ...          ...  \n",
      "100994           2             102          204  \n",
      "100995           4             270         1080  \n",
      "100996           1              87           87  \n",
      "100997           1             108          108  \n",
      "100998           2             133          266  \n",
      "\n",
      "[100999 rows x 7 columns]\n"
     ]
    }
   ],
   "source": [
    "pd.set_option('display.max_columns',None)\n",
    "print(tabela_vendas)\n"
   ]
  },
  {
   "cell_type": "markdown",
   "id": "f5191f71",
   "metadata": {},
   "source": [
    "### 3.Faturamento por Loja \n",
    "Nessa etapa, é criada a tabela \"faturamento\" a partir dos dados da tabela \"tabela_vendas\". Os campos selecionados são agrupados por loja, somando os valores do campo \"valor final\". Os resultados são ordenados em ordem decrescente, exibindo ID da loja  e valor final (loja com o maior faturamento é exibida primeiro, seguida pelas lojas com faturamento decrescente.)\n"
   ]
  },
  {
   "cell_type": "code",
   "execution_count": 5,
   "id": "5d68417b",
   "metadata": {},
   "outputs": [
    {
     "name": "stdout",
     "output_type": "stream",
     "text": [
      "                                  Valor Final\n",
      "ID Loja                                      \n",
      "Iguatemi Campinas                     1762419\n",
      "Shopping Vila Velha                   1731167\n",
      "Bourbon Shopping SP                   1726110\n",
      "Rio Mar Recife                        1722766\n",
      "Shopping SP Market                    1721763\n",
      "Palladium Shopping Curitiba           1721120\n",
      "Norte Shopping                        1711968\n",
      "Ribeirão Shopping                     1707122\n",
      "Iguatemi Esplanada                    1699681\n",
      "Rio Mar Shopping Fortaleza            1698430\n",
      "Shopping Center Leste Aricanduva      1682870\n",
      "Novo Shopping Ribeirão Preto          1678225\n",
      "Shopping Iguatemi Fortaleza           1674824\n",
      "Center Shopping Uberlândia            1668921\n",
      "Shopping União de Osasco              1663770\n",
      "Shopping Barra                        1653103\n",
      "Passei das Águas Shopping             1649014\n",
      "Shopping Eldorado                     1648111\n",
      "Salvador Shopping                     1646739\n",
      "Shopping Center Interlagos            1640486\n",
      "Shopping Ibirapuera                   1635060\n",
      "Parque Dom Pedro Shopping             1631630\n",
      "Shopping Recife                       1624879\n",
      "Shopping Midway Mall                  1590441\n",
      "Shopping Morumbi                      1586444\n"
     ]
    }
   ],
   "source": [
    "\n",
    "faturamento = tabela_vendas[[\"ID Loja\",\"Valor Final\"]]\\\n",
    ".groupby('ID Loja')\\\n",
    ".sum()\\\n",
    ".sort_values(by ='Valor Final' ,ascending =False)\n",
    "print(faturamento)\n"
   ]
  },
  {
   "cell_type": "markdown",
   "id": "3bb41a03",
   "metadata": {},
   "source": [
    "### 4.Quantidade de Produtos vendido por Loja\n",
    "Nesse caso, a etapa é semelhante à anterior de \"3. Faturamento por Loja\". Aqui, será criada uma tabela denominada \"quantidade\" a partir dos dados da tabela \"tabela_vendas\". Os campos selecionados são \"ID Loja\" e \"Quantidade\"(semelhante a nome da tabela). Os dados também são agrupados por loja e a quantidade de produtos vendidos é calculada. Os resultados são ordenados em ordem decrescente, exibindo o ID da loja e a quantidade de produtos vendidos."
   ]
  },
  {
   "cell_type": "code",
   "execution_count": 6,
   "id": "415f5993",
   "metadata": {},
   "outputs": [
    {
     "name": "stdout",
     "output_type": "stream",
     "text": [
      "                                  Quantidade\n",
      "ID Loja                                     \n",
      "Shopping Vila Velha                     9224\n",
      "Palladium Shopping Curitiba             9091\n",
      "Norte Shopping                          9014\n",
      "Shopping Center Leste Aricanduva        8938\n",
      "Rio Mar Shopping Fortaleza              8937\n",
      "Iguatemi Campinas                       8935\n",
      "Shopping SP Market                      8927\n",
      "Rio Mar Recife                          8863\n",
      "Bourbon Shopping SP                     8863\n",
      "Ribeirão Shopping                       8825\n",
      "Novo Shopping Ribeirão Preto            8751\n",
      "Shopping União de Osasco                8730\n",
      "Shopping Ibirapuera                     8723\n",
      "Shopping Eldorado                       8719\n",
      "Salvador Shopping                       8698\n",
      "Shopping Center Interlagos              8675\n",
      "Shopping Barra                          8638\n",
      "Shopping Iguatemi Fortaleza             8629\n",
      "Center Shopping Uberlândia              8627\n",
      "Passei das Águas Shopping               8618\n",
      "Shopping Recife                         8581\n",
      "Iguatemi Esplanada                      8580\n",
      "Shopping Morumbi                        8508\n",
      "Parque Dom Pedro Shopping               8388\n",
      "Shopping Midway Mall                    8206\n"
     ]
    }
   ],
   "source": [
    "quantidade = tabela_vendas[['ID Loja','Quantidade']]\\\n",
    ".groupby('ID Loja')\\\n",
    ".sum()\\\n",
    ".sort_values(by= 'Quantidade', ascending = False)\n",
    "print(quantidade)"
   ]
  },
  {
   "cell_type": "markdown",
   "id": "463e905d",
   "metadata": {},
   "source": [
    "### 5.Ticket médio por produto em cada loja\n",
    "\n",
    "Nessa etapa, é calculado o ticket médio por produto em cada loja. O faturamento total de cada loja, obtido na etapa anterior, é dividido pela quantidade de produtos vendidos. Os resultados são organizados em uma tabela chamada \"ticket_medio\" e exibidos na tela, mostrando o valor médio gasto por produto em cada loja"
   ]
  },
  {
   "cell_type": "markdown",
   "id": "4fbe4b51",
   "metadata": {},
   "source": [
    "##### Obeservções:\n",
    "1. A função .to_frame() é utilizado nesse contexto para transformar a expressão em um DataFrame, permitindo que você renomeie as colunas e realize outras operações específicas do DataFrame posteriormente, se necessário.\n"
   ]
  },
  {
   "cell_type": "markdown",
   "id": "82d40e1b",
   "metadata": {},
   "source": [
    "2. Na linha ticket_medio = ticket_medio.rename(columns= {0:'Ticket Médio'}) executa um comando para renomear a tabela de 0 para Ticket Médio ."
   ]
  },
  {
   "cell_type": "markdown",
   "id": "a13532d0",
   "metadata": {},
   "source": [
    "3. Repare que dentro do comando print foi utilizada uma função para ordenar a tabela do maior para o menor valor do ticket médio. Essa função possibilita a organização da tabela, garantindo que as lojas sejam exibidas em ordem decrescente de ticket médio."
   ]
  },
  {
   "cell_type": "code",
   "execution_count": 14,
   "id": "05636d66",
   "metadata": {
    "scrolled": true
   },
   "outputs": [
    {
     "name": "stdout",
     "output_type": "stream",
     "text": [
      "                                  Ticket Médio\n",
      "ID Loja                                       \n",
      "Iguatemi Esplanada                  198.098019\n",
      "Iguatemi Campinas                   197.248909\n",
      "Bourbon Shopping SP                 194.754598\n",
      "Parque Dom Pedro Shopping           194.519552\n",
      "Rio Mar Recife                      194.377299\n",
      "Shopping Iguatemi Fortaleza         194.092479\n",
      "Shopping Midway Mall                193.814404\n",
      "Center Shopping Uberlândia          193.453228\n",
      "Ribeirão Shopping                   193.441586\n",
      "Shopping SP Market                  192.871401\n",
      "Novo Shopping Ribeirão Preto        191.775226\n",
      "Shopping Barra                      191.375666\n",
      "Passei das Águas Shopping           191.345324\n",
      "Shopping União de Osasco            190.580756\n",
      "Rio Mar Shopping Fortaleza          190.044758\n",
      "Norte Shopping                      189.923231\n",
      "Shopping Recife                     189.357767\n",
      "Salvador Shopping                   189.323868\n",
      "Palladium Shopping Curitiba         189.321307\n",
      "Shopping Center Interlagos          189.105014\n",
      "Shopping Eldorado                   189.025232\n",
      "Shopping Center Leste Aricanduva    188.282614\n",
      "Shopping Vila Velha                 187.680724\n",
      "Shopping Ibirapuera                 187.442394\n",
      "Shopping Morumbi                    186.464974\n"
     ]
    }
   ],
   "source": [
    "ticket_medio = (faturamento ['Valor Final'] / quantidade['Quantidade'])\\\n",
    ".to_frame()\n",
    "ticket_medio = ticket_medio.rename(columns= {0:'Ticket Médio'})\n",
    "\n",
    "print(ticket_medio.sort_values(by='Ticket Médio', ascending = False))"
   ]
  },
  {
   "cell_type": "markdown",
   "id": "1845d3b9",
   "metadata": {},
   "source": [
    "### 6.Enviar email com relatório\n",
    "\n",
    "Nessa parte do código, a biblioteca win32com.client é utilizada para se comunicar com o Outlook. Um novo email é criado e configurado com informações importantes, como destinatário, assunto e corpo. O corpo do email é formatado em HTML e contém um relatório em formato de planilhas. As informações do relatório, como faturamento, quantidade de vendas e ticket médio por loja, serão apresentadas em tabelas dentro do corpo do email. Por fim, o email é enviado usando o método .Send(), garantindo o envio do relatório em formato de planilhas para os destinatários especificados."
   ]
  },
  {
   "cell_type": "code",
   "execution_count": 8,
   "id": "3db97591",
   "metadata": {},
   "outputs": [
    {
     "name": "stdout",
     "output_type": "stream",
     "text": [
      "Email enviado\n"
     ]
    }
   ],
   "source": [
    "outlook = win32.Dispatch('outlook.application')\n",
    "email= outlook.CreateItem(0)\n",
    "email.To='exemplo1@gmail.com;seuEmail3@gmail.com;exemplo2@gmail.com'\n",
    "email.Subject= 'Relatorio de Vendas por Loja'\n",
    "email.HTMLBody= f'''\n",
    "<p>Prezados</p>\n",
    "<p>Segue o Relatório venda por cada loja.</p>\n",
    "<p>Faturamento :</p>\n",
    "{faturamento.to_html(formatters={'Valor Final':'R${:,.2f}'.format})}\n",
    "<p>Quantidade de Venda:</p>\n",
    "{quantidade.to_html()}\n",
    "<p>Ticket médio :</p>\n",
    "{ticket_medio.to_html(formatters={'Ticket Médio':'R${:,.2f}'.format})}\n",
    "<p> Qualquer Duvida estou a disposição</p>\n",
    "<p> Att: Adriano Contesini</p>\n",
    "\n",
    "\n",
    "'''\n",
    "email.Send()\n",
    "print('Email enviado')"
   ]
  }
 ],
 "metadata": {
  "kernelspec": {
   "display_name": "Python 3 (ipykernel)",
   "language": "python",
   "name": "python3"
  },
  "language_info": {
   "codemirror_mode": {
    "name": "ipython",
    "version": 3
   },
   "file_extension": ".py",
   "mimetype": "text/x-python",
   "name": "python",
   "nbconvert_exporter": "python",
   "pygments_lexer": "ipython3",
   "version": "3.10.9"
  }
 },
 "nbformat": 4,
 "nbformat_minor": 5
}
